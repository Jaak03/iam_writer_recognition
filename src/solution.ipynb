{
 "cells": [
  {
   "cell_type": "markdown",
   "metadata": {
    "colab_type": "text",
    "id": "FOICGEz6jN_e"
   },
   "source": [
    "# IAM Writer Recognition"
   ]
  },
  {
   "cell_type": "markdown",
   "metadata": {
    "colab_type": "text",
    "id": "X820Obr5jN_i"
   },
   "source": [
    "This notebook is pretty much a translation of [https://github.com/priya-dwivedi/Deep-Learning/tree/master/handwriting_recognition](https://github.com/priya-dwivedi/Deep-Learning/tree/master/handwriting_recognition)"
   ]
  },
  {
   "cell_type": "markdown",
   "metadata": {
    "colab_type": "text",
    "id": "inxlDgefjN_j"
   },
   "source": [
    "# Dataset \"Creation\" and Manipulation"
   ]
  },
  {
   "cell_type": "markdown",
   "metadata": {
    "colab_type": "text",
    "id": "1guvfFnmjN_k"
   },
   "source": [
    "Create a dictionary to store each form ID and its writer:"
   ]
  },
  {
   "cell_type": "code",
   "execution_count": 0,
   "metadata": {
    "colab": {},
    "colab_type": "code",
    "id": "2zHuGCQFjN_l"
   },
   "outputs": [],
   "source": [
    "import os\n",
    "from itertools import islice\n",
    "\n",
    "form_writer = {}\n",
    "forms_file_path = \"./data/forms.txt\"\n",
    "with open(forms_file_path) as f:\n",
    "    for line in islice(f, 16, None):\n",
    "        line_list = line.split(' ')\n",
    "        form_id = line_list[0]\n",
    "        writer = line_list[1]\n",
    "        form_writer[form_id] = writer"
   ]
  },
  {
   "cell_type": "markdown",
   "metadata": {
    "colab_type": "text",
    "id": "TGIUdr5cjN_p"
   },
   "source": [
    "Visualize dictionary (as array for simplicity):"
   ]
  },
  {
   "cell_type": "code",
   "execution_count": 4,
   "metadata": {
    "colab": {
     "base_uri": "https://localhost:8080/",
     "height": 102
    },
    "colab_type": "code",
    "id": "FKJ6dsAGjN_q",
    "outputId": "cb98eba3-137f-4573-cd9f-6d172ba7d6cd"
   },
   "outputs": [
    {
     "data": {
      "text/plain": [
       "[('a01-000u', '000'),\n",
       " ('a01-000x', '001'),\n",
       " ('a01-003', '002'),\n",
       " ('a01-003u', '000'),\n",
       " ('a01-003x', '003')]"
      ]
     },
     "execution_count": 4,
     "metadata": {
      "tags": []
     },
     "output_type": "execute_result"
    }
   ],
   "source": [
    "list(form_writer.items())[0:5]"
   ]
  },
  {
   "cell_type": "markdown",
   "metadata": {
    "colab_type": "text",
    "id": "ZdHVHlU_jN_t"
   },
   "source": [
    "Select the 50 most common writers:"
   ]
  },
  {
   "cell_type": "code",
   "execution_count": 0,
   "metadata": {
    "colab": {},
    "colab_type": "code",
    "id": "B4le_mL3jN_t"
   },
   "outputs": [],
   "source": [
    "from collections import Counter\n",
    "\n",
    "top_writers = []\n",
    "num_writers = 50\n",
    "writers_counter = Counter(form_writer.values())\n",
    "for writer_id,_ in writers_counter.most_common(num_writers):\n",
    "    top_writers.append(writer_id)"
   ]
  },
  {
   "cell_type": "markdown",
   "metadata": {
    "colab_type": "text",
    "id": "X7DKQ0VijN_w"
   },
   "source": [
    "Visualize the writer id of the top 50 writers:"
   ]
  },
  {
   "cell_type": "code",
   "execution_count": 6,
   "metadata": {
    "colab": {
     "base_uri": "https://localhost:8080/",
     "height": 34
    },
    "colab_type": "code",
    "id": "5mhwA0LrjN_x",
    "outputId": "7c141aa2-d171-499f-b1fd-738c182cdc83"
   },
   "outputs": [
    {
     "name": "stdout",
     "output_type": "stream",
     "text": [
      "['000', '150', '151', '152', '153']\n"
     ]
    }
   ],
   "source": [
    "print(top_writers[0:5])"
   ]
  },
  {
   "cell_type": "markdown",
   "metadata": {
    "colab_type": "text",
    "id": "HwW7ts-mjN_0"
   },
   "source": [
    "Select the 50 most common writers' forms:"
   ]
  },
  {
   "cell_type": "code",
   "execution_count": 0,
   "metadata": {
    "colab": {},
    "colab_type": "code",
    "id": "MeRZBANbjN_0"
   },
   "outputs": [],
   "source": [
    "top_forms = []\n",
    "for form_id, author_id in form_writer.items():\n",
    "    if author_id in top_writers:\n",
    "        top_forms.append(form_id)"
   ]
  },
  {
   "cell_type": "markdown",
   "metadata": {
    "colab_type": "text",
    "id": "5HDd4y12jN_4"
   },
   "source": [
    "Visualize the form id of the top 50 writers:"
   ]
  },
  {
   "cell_type": "code",
   "execution_count": 8,
   "metadata": {
    "colab": {
     "base_uri": "https://localhost:8080/",
     "height": 34
    },
    "colab_type": "code",
    "id": "Uu5W_aXUjN_6",
    "outputId": "321e8045-0560-454a-80fe-479272f9f369"
   },
   "outputs": [
    {
     "name": "stdout",
     "output_type": "stream",
     "text": [
      "['a01-000u', 'a01-003u', 'a01-007u', 'a01-011u', 'a01-014u']\n"
     ]
    }
   ],
   "source": [
    "print(top_forms[0:5])"
   ]
  },
  {
   "cell_type": "markdown",
   "metadata": {
    "colab_type": "text",
    "id": "be_0siyXjN_-"
   },
   "source": [
    "Create a temp directory which contains only the sentences of the forms selected above:"
   ]
  },
  {
   "cell_type": "code",
   "execution_count": 0,
   "metadata": {
    "colab": {},
    "colab_type": "code",
    "id": "qQBL7IeajN__"
   },
   "outputs": [],
   "source": [
    "import os\n",
    "import glob\n",
    "import shutil\n",
    "\n",
    "# Create temp directory to save writers' forms in (assumes files have already been copied if the directory exists)\n",
    "temp_sentences_path = \"./data/temp_sentences\"\n",
    "if not os.path.exists(temp_sentences_path):\n",
    "    os.makedirs(temp_sentences_path)\n",
    "    # Copy forms that belong to the top 50 most common writers to the temp directory\n",
    "    original_sentences_path = \"./data/sentences/**/**/*.png\"\n",
    "    for file_path in glob.glob(original_sentences_path):\n",
    "        image_name = file_path.split('/')[-1]  \n",
    "        file_name, _ = os.path.splitext(image_name)\n",
    "        form_id = '-'.join(file_name.split('-')[0:2])\n",
    "        if form_id in top_forms:\n",
    "            shutil.copy2(file_path, temp_sentences_path + \"/\" + image_name)"
   ]
  },
  {
   "cell_type": "markdown",
   "metadata": {
    "colab_type": "text",
    "id": "hSSAlzWVjOAD"
   },
   "source": [
    "Create arrays of file inputs (a form) and their respective targets (a writer id):"
   ]
  },
  {
   "cell_type": "code",
   "execution_count": 0,
   "metadata": {
    "colab": {},
    "colab_type": "code",
    "id": "mfzwf2BKjOAH"
   },
   "outputs": [],
   "source": [
    "import numpy as np\n",
    "\n",
    "img_files = np.zeros((0), dtype=np.str)\n",
    "img_targets = np.zeros((0), dtype=np.str)\n",
    "path_to_files = os.path.join(temp_sentences_path, '*')\n",
    "for file_path in glob.glob(path_to_files):\n",
    "    img_files = np.append(img_files, file_path)\n",
    "    file_name, _ = os.path.splitext(file_path.split('/')[-1]  )\n",
    "    form_id = '-'.join(file_name.split('-')[0:2])\n",
    "    for key in form_writer:\n",
    "        if key == form_id:\n",
    "            img_targets = np.append(img_targets, form_writer[form_id])"
   ]
  },
  {
   "cell_type": "markdown",
   "metadata": {
    "colab_type": "text",
    "id": "Jb6AwFvIjOAP"
   },
   "source": [
    "Visualize the form -> writer id arrays:"
   ]
  },
  {
   "cell_type": "code",
   "execution_count": 11,
   "metadata": {
    "colab": {
     "base_uri": "https://localhost:8080/",
     "height": 119
    },
    "colab_type": "code",
    "id": "KI9InV7sjOAQ",
    "outputId": "42ad7fa7-b577-480a-c626-6cf0fe8b33f5"
   },
   "outputs": [
    {
     "name": "stdout",
     "output_type": "stream",
     "text": [
      "['./temp_sentences/a03-080-s01-03.png'\n",
      " './temp_sentences/g06-031k-s04-00.png'\n",
      " './temp_sentences/m06-019-s00-00.png'\n",
      " './temp_sentences/g06-037f-s03-02.png'\n",
      " './temp_sentences/g06-037h-s01-01.png']\n",
      "['000' '342' '551' '337' '339']\n"
     ]
    }
   ],
   "source": [
    "print(img_files[0:5])\n",
    "print(img_targets[0:5])"
   ]
  },
  {
   "cell_type": "markdown",
   "metadata": {
    "colab_type": "text",
    "id": "WKiDRakVjOAS"
   },
   "source": [
    "Visualize dataset's images:"
   ]
  },
  {
   "cell_type": "code",
   "execution_count": 12,
   "metadata": {
    "colab": {
     "base_uri": "https://localhost:8080/",
     "height": 182
    },
    "colab_type": "code",
    "id": "J1m2JtZyjOAT",
    "outputId": "65742ceb-8bbb-489a-846e-c07deaea435d"
   },
   "outputs": [
    {
     "data": {
      "image/png": "[encoded data removed]",
      "text/plain": [
       "<matplotlib.figure.Figure at 0x7fbf98c24b70>"
      ]
     },
     "metadata": {
      "tags": []
     },
     "output_type": "display_data"
    },
    {
     "data": {
      "image/png": "[encoded data removed]",
      "text/plain": [
       "<matplotlib.figure.Figure at 0x7fbf982dcf60>"
      ]
     },
     "metadata": {
      "tags": []
     },
     "output_type": "display_data"
    }
   ],
   "source": [
    "import matplotlib.pyplot as plt\n",
    "import matplotlib.image as mpimg\n",
    "%matplotlib inline\n",
    "\n",
    "for file_name in img_files[:2]:\n",
    "    img = mpimg.imread(file_name)\n",
    "    plt.figure(figsize = (10,10))\n",
    "    plt.imshow(img, cmap ='gray')"
   ]
  },
  {
   "cell_type": "markdown",
   "metadata": {
    "colab_type": "text",
    "id": "5yYh5_3vjOAV"
   },
   "source": [
    "Encode writers with a value between 0 and ``n_classes-1``:"
   ]
  },
  {
   "cell_type": "code",
   "execution_count": 13,
   "metadata": {
    "colab": {
     "base_uri": "https://localhost:8080/",
     "height": 51
    },
    "colab_type": "code",
    "id": "y9A4WbqPjOAV",
    "outputId": "d1f8fcc5-8127-4231-b7cc-690c10dea186"
   },
   "outputs": [
    {
     "name": "stdout",
     "output_type": "stream",
     "text": [
      "Writer ID        :  ['000' '342']\n",
      "Encoded writer ID:  [ 0 32]\n"
     ]
    }
   ],
   "source": [
    "from sklearn.preprocessing import LabelEncoder\n",
    "\n",
    "encoder = LabelEncoder()\n",
    "encoder.fit(img_targets)\n",
    "encoded_img_targets = encoder.transform(img_targets)\n",
    "\n",
    "print(\"Writer ID        : \", img_targets[:2])\n",
    "print(\"Encoded writer ID: \", encoded_img_targets[:2])"
   ]
  },
  {
   "cell_type": "markdown",
   "metadata": {
    "colab_type": "text",
    "id": "FPMqJtNnjOAZ"
   },
   "source": [
    "Split dataset into train, validation, and tests sets:"
   ]
  },
  {
   "cell_type": "code",
   "execution_count": 14,
   "metadata": {
    "colab": {
     "base_uri": "https://localhost:8080/",
     "height": 51
    },
    "colab_type": "code",
    "id": "SqFgVvjEjOAZ",
    "outputId": "5d069de7-a41a-4180-8106-42d213f4cd69"
   },
   "outputs": [
    {
     "name": "stdout",
     "output_type": "stream",
     "text": [
      "(3141,) (786,) (982,)\n",
      "(3141,) (786,) (982,)\n"
     ]
    }
   ],
   "source": [
    "from sklearn.model_selection import train_test_split\n",
    "\n",
    "# Split dataset into training and test sets\n",
    "X_train, X_test, y_train, y_test = train_test_split(img_files, encoded_img_targets, test_size=0.2, shuffle = True)\n",
    "\n",
    "# Further split training set into training and validation sets\n",
    "X_train, X_val, y_train, y_val = train_test_split(X_train, y_train, test_size=0.2, shuffle = True)\n",
    "\n",
    "print(X_train.shape, X_val.shape, X_test.shape)\n",
    "print(y_train.shape, y_val.shape, y_test.shape)"
   ]
  },
  {
   "cell_type": "markdown",
   "metadata": {
    "colab_type": "text",
    "id": "S5-nRNWFjOAc"
   },
   "source": [
    "Define a couple of constants that will be used throughout the model:"
   ]
  },
  {
   "cell_type": "code",
   "execution_count": 0,
   "metadata": {
    "colab": {},
    "colab_type": "code",
    "id": "7UXwDegTjOAd"
   },
   "outputs": [],
   "source": [
    "CROP_SIZE = 113\n",
    "NUM_LABELS = 50\n",
    "BATCH_SIZE = 16"
   ]
  },
  {
   "cell_type": "code",
   "execution_count": 0,
   "metadata": {
    "colab": {},
    "colab_type": "code",
    "id": "ckp7A0ZbjOAi"
   },
   "outputs": [],
   "source": [
    "from sklearn.utils import shuffle\n",
    "from PIL import Image\n",
    "import random\n",
    "\n",
    "def get_augmented_sample(sample, label, sample_ratio):\n",
    "    # Get current image details\n",
    "    img = Image.open(sample)\n",
    "    img_width = img.size[0]\n",
    "    img_height = img.size[1]\n",
    "\n",
    "    # Compute resize dimensions such that aspect ratio is maintained\n",
    "    height_fac = CROP_SIZE / img_height\n",
    "    size = (int(img_width * height_fac), CROP_SIZE)\n",
    "\n",
    "    # Resize image \n",
    "    new_img = img.resize((size), Image.ANTIALIAS)\n",
    "    new_img_width = new_img.size[0]\n",
    "    new_img_height = new_img.size[1]\n",
    "\n",
    "    # Generate a random number of crops of size 113x113 from the resized image\n",
    "    x_coord = list(range(0, new_img_width - CROP_SIZE))\n",
    "    num_crops = int(len(x_coord) * sample_ratio)\n",
    "    random_x_coord = random.sample(x_coord, num_crops)\n",
    "    \n",
    "    # Create augmented images (cropped forms) and map them to a label (writer)\n",
    "    images = []\n",
    "    labels = []\n",
    "    for x in random_x_coord:\n",
    "        img_crop = new_img.crop((x, 0, x + CROP_SIZE, CROP_SIZE))\n",
    "        # Transform image to an array of numbers\n",
    "        images.append(np.asarray(img_crop))\n",
    "        labels.append(label)\n",
    "\n",
    "    return (images, labels)"
   ]
  },
  {
   "cell_type": "code",
   "execution_count": 17,
   "metadata": {
    "colab": {
     "base_uri": "https://localhost:8080/",
     "height": 34
    },
    "colab_type": "code",
    "id": "QpwonMROjOAm",
    "outputId": "66054b7c-046c-447d-c284-90ead6a2d4d0"
   },
   "outputs": [
    {
     "name": "stderr",
     "output_type": "stream",
     "text": [
      "Using TensorFlow backend.\n"
     ]
    }
   ],
   "source": [
    "import operator\n",
    "from functools import reduce\n",
    "from keras.utils import to_categorical\n",
    "\n",
    "def generate_data(samples, labels, batch_size, sample_ratio):\n",
    "    while 1: \n",
    "        for offset in range(0, len(samples), batch_size):\n",
    "            batch_samples = samples[offset:(offset + batch_size)]\n",
    "            batch_labels = labels[offset:(offset + batch_size)]\n",
    "            \n",
    "            # Augment each sample in batch\n",
    "            augmented_batch_samples = []\n",
    "            augmented_batch_labels = []\n",
    "            for i in range(len(batch_samples)):\n",
    "                sample = batch_samples[i]\n",
    "                label = batch_labels[i]\n",
    "                augmented_samples, augmented_labels = get_augmented_sample(sample, label, sample_ratio)\n",
    "                augmented_batch_samples.append(augmented_samples)\n",
    "                augmented_batch_labels.append(augmented_labels)\n",
    "\n",
    "            # Flatten out samples and labels\n",
    "            augmented_batch_samples = reduce(operator.add, augmented_batch_samples)\n",
    "            augmented_batch_labels = reduce(operator.add, augmented_batch_labels)\n",
    "            \n",
    "            # Reshape input format\n",
    "            X_train = np.array(augmented_batch_samples)\n",
    "            X_train = X_train.reshape(X_train.shape[0], CROP_SIZE, CROP_SIZE, 1)\n",
    "\n",
    "            # Transform input to float and normalize\n",
    "            X_train = X_train.astype('float32')\n",
    "            X_train /= 255\n",
    "\n",
    "            # Encode y\n",
    "            y_train = np.array(augmented_batch_labels)\n",
    "            y_train = to_categorical(y_train, NUM_LABELS)\n",
    "\n",
    "            yield X_train, y_train"
   ]
  },
  {
   "cell_type": "markdown",
   "metadata": {
    "colab_type": "text",
    "id": "xeHRbGh_jOAo"
   },
   "source": [
    "Create training, validation, and test generators:"
   ]
  },
  {
   "cell_type": "code",
   "execution_count": 0,
   "metadata": {
    "colab": {},
    "colab_type": "code",
    "id": "l9dr2pogjOAp"
   },
   "outputs": [],
   "source": [
    "train_generator = generate_data(X_train, y_train, BATCH_SIZE, 0.3)\n",
    "validation_generator = generate_data(X_val, y_val, BATCH_SIZE, 0.3)\n",
    "test_generator = generate_data(X_test, y_test, BATCH_SIZE, 0.1)"
   ]
  },
  {
   "cell_type": "code",
   "execution_count": 19,
   "metadata": {
    "colab": {
     "base_uri": "https://localhost:8080/",
     "height": 34
    },
    "colab_type": "code",
    "id": "KeHK6NkTjOAr",
    "outputId": "cccba7d3-41fe-4924-8259-57d209c216d9"
   },
   "outputs": [
    {
     "data": {
      "text/plain": [
       "<tensorflow.python.client.session.Session at 0x7fbf98330d30>"
      ]
     },
     "execution_count": 19,
     "metadata": {
      "tags": []
     },
     "output_type": "execute_result"
    }
   ],
   "source": [
    "import tensorflow as tf\n",
    "\n",
    "config = tf.ConfigProto()\n",
    "tf.Session(config = config)"
   ]
  },
  {
   "cell_type": "code",
   "execution_count": 0,
   "metadata": {
    "colab": {},
    "colab_type": "code",
    "id": "Fvu-0oV4jOAu"
   },
   "outputs": [],
   "source": [
    "def resize_image(img):\n",
    "    size = round(CROP_SIZE/2)\n",
    "    return tf.image.resize_images(img, [size, size])"
   ]
  },
  {
   "cell_type": "code",
   "execution_count": 21,
   "metadata": {
    "colab": {
     "base_uri": "https://localhost:8080/",
     "height": 867
    },
    "colab_type": "code",
    "id": "mR01wBGijOAx",
    "outputId": "b8f4c4d1-6599-4569-d08e-2d48a060f47a"
   },
   "outputs": [
    {
     "name": "stdout",
     "output_type": "stream",
     "text": [
      "_________________________________________________________________\n",
      "Layer (type)                 Output Shape              Param #   \n",
      "=================================================================\n",
      "zero_padding2d_1 (ZeroPaddin (None, 115, 115, 1)       0         \n",
      "_________________________________________________________________\n",
      "lambda_1 (Lambda)            (None, 56, 56, 1)         0         \n",
      "_________________________________________________________________\n",
      "conv1 (Conv2D)               (None, 28, 28, 32)        832       \n",
      "_________________________________________________________________\n",
      "activation_1 (Activation)    (None, 28, 28, 32)        0         \n",
      "_________________________________________________________________\n",
      "pool1 (MaxPooling2D)         (None, 14, 14, 32)        0         \n",
      "_________________________________________________________________\n",
      "conv2 (Conv2D)               (None, 14, 14, 64)        18496     \n",
      "_________________________________________________________________\n",
      "activation_2 (Activation)    (None, 14, 14, 64)        0         \n",
      "_________________________________________________________________\n",
      "pool2 (MaxPooling2D)         (None, 7, 7, 64)          0         \n",
      "_________________________________________________________________\n",
      "conv3 (Conv2D)               (None, 7, 7, 128)         73856     \n",
      "_________________________________________________________________\n",
      "activation_3 (Activation)    (None, 7, 7, 128)         0         \n",
      "_________________________________________________________________\n",
      "pool3 (MaxPooling2D)         (None, 3, 3, 128)         0         \n",
      "_________________________________________________________________\n",
      "flatten_1 (Flatten)          (None, 1152)              0         \n",
      "_________________________________________________________________\n",
      "dropout_1 (Dropout)          (None, 1152)              0         \n",
      "_________________________________________________________________\n",
      "dense1 (Dense)               (None, 512)               590336    \n",
      "_________________________________________________________________\n",
      "activation_4 (Activation)    (None, 512)               0         \n",
      "_________________________________________________________________\n",
      "dropout_2 (Dropout)          (None, 512)               0         \n",
      "_________________________________________________________________\n",
      "dense2 (Dense)               (None, 256)               131328    \n",
      "_________________________________________________________________\n",
      "activation_5 (Activation)    (None, 256)               0         \n",
      "_________________________________________________________________\n",
      "dropout_3 (Dropout)          (None, 256)               0         \n",
      "_________________________________________________________________\n",
      "output (Dense)               (None, 50)                12850     \n",
      "_________________________________________________________________\n",
      "activation_6 (Activation)    (None, 50)                0         \n",
      "=================================================================\n",
      "Total params: 827,698\n",
      "Trainable params: 827,698\n",
      "Non-trainable params: 0\n",
      "_________________________________________________________________\n",
      "None\n"
     ]
    }
   ],
   "source": [
    "from keras.models import Sequential\n",
    "from keras.layers import Dense, Dropout, Flatten, Lambda, Activation\n",
    "from keras.layers.convolutional import Convolution2D, ZeroPadding2D, MaxPooling2D\n",
    "from keras.optimizers import Adam\n",
    "from keras import metrics\n",
    "\n",
    "model = Sequential()\n",
    "\n",
    "# Define network input shape\n",
    "model.add(ZeroPadding2D((1, 1), input_shape=(CROP_SIZE, CROP_SIZE, 1)))\n",
    "# Resize images to allow for easy computation\n",
    "model.add(Lambda(resize_image)) \n",
    "\n",
    "# CNN model - Building the model suggested in paper\n",
    "model.add(Convolution2D(filters= 32, kernel_size =(5,5), strides= (2, 2), padding='same', name='conv1'))\n",
    "model.add(Activation('relu'))\n",
    "model.add(MaxPooling2D(pool_size=(2, 2), strides=(2, 2), name='pool1'))\n",
    "\n",
    "model.add(Convolution2D(filters= 64, kernel_size =(3, 3), strides= (1, 1), padding='same', name='conv2'))\n",
    "model.add(Activation('relu'))\n",
    "model.add(MaxPooling2D(pool_size=(2, 2), strides=(2, 2), name='pool2'))\n",
    "\n",
    "model.add(Convolution2D(filters= 128, kernel_size =(3, 3), strides= (1, 1), padding='same', name='conv3'))\n",
    "model.add(Activation('relu'))\n",
    "model.add(MaxPooling2D(pool_size=(2, 2), strides=(2, 2), name='pool3'))\n",
    "\n",
    "\n",
    "model.add(Flatten())\n",
    "model.add(Dropout(0.5))\n",
    "\n",
    "model.add(Dense(512, name='dense1'))\n",
    "model.add(Activation('relu'))\n",
    "model.add(Dropout(0.5))\n",
    "\n",
    "model.add(Dense(256, name='dense2'))\n",
    "model.add(Activation('relu'))\n",
    "model.add(Dropout(0.5))\n",
    "\n",
    "model.add(Dense(NUM_LABELS, name='output'))\n",
    "model.add(Activation('softmax'))\n",
    "\n",
    "model.compile(loss='categorical_crossentropy', optimizer=Adam(), metrics=['acc'])\n",
    "\n",
    "print(model.summary())"
   ]
  },
  {
   "cell_type": "code",
   "execution_count": 22,
   "metadata": {
    "colab": {
     "base_uri": "https://localhost:8080/",
     "height": 1397
    },
    "colab_type": "code",
    "id": "AWcVj_1WjOAy",
    "outputId": "5fb3ea7c-b304-40f3-ad21-ab2b06aad5a1"
   },
   "outputs": [
    {
     "name": "stdout",
     "output_type": "stream",
     "text": [
      "Epoch 1/20\n",
      "196/196 [==============================] - 434s 2s/step - loss: 3.5442 - acc: 0.2106 - val_loss: 3.1511 - val_acc: 0.2480\n",
      "\n",
      "Epoch 00001: saving model to ./model_checkpoints/check_01_3.1511.hdf5\n",
      "Epoch 2/20\n",
      "196/196 [==============================] - 146s 742ms/step - loss: 2.9741 - acc: 0.2446 - val_loss: 2.5199 - val_acc: 0.3031\n",
      "\n",
      "Epoch 00002: saving model to ./model_checkpoints/check_02_2.5199.hdf5\n",
      "Epoch 3/20\n",
      "196/196 [==============================] - 146s 746ms/step - loss: 2.5296 - acc: 0.2957 - val_loss: 2.2370 - val_acc: 0.3558\n",
      "\n",
      "Epoch 00003: saving model to ./model_checkpoints/check_03_2.2370.hdf5\n",
      "Epoch 4/20\n",
      "196/196 [==============================] - 144s 737ms/step - loss: 2.2046 - acc: 0.3624 - val_loss: 1.9015 - val_acc: 0.4326\n",
      "\n",
      "Epoch 00004: saving model to ./model_checkpoints/check_04_1.9015.hdf5\n",
      "Epoch 5/20\n",
      "196/196 [==============================] - 144s 737ms/step - loss: 1.9714 - acc: 0.4149 - val_loss: 1.6770 - val_acc: 0.4984\n",
      "\n",
      "Epoch 00005: saving model to ./model_checkpoints/check_05_1.6770.hdf5\n",
      "Epoch 6/20\n",
      "196/196 [==============================] - 145s 741ms/step - loss: 1.7739 - acc: 0.4637 - val_loss: 1.5425 - val_acc: 0.5279\n",
      "\n",
      "Epoch 00006: saving model to ./model_checkpoints/check_06_1.5425.hdf5\n",
      "Epoch 7/20\n",
      "196/196 [==============================] - 144s 737ms/step - loss: 1.6169 - acc: 0.5053 - val_loss: 1.4251 - val_acc: 0.5568\n",
      "\n",
      "Epoch 00007: saving model to ./model_checkpoints/check_07_1.4251.hdf5\n",
      "Epoch 8/20\n",
      "196/196 [==============================] - 145s 740ms/step - loss: 1.5006 - acc: 0.5375 - val_loss: 1.2791 - val_acc: 0.6004\n",
      "\n",
      "Epoch 00008: saving model to ./model_checkpoints/check_08_1.2791.hdf5\n",
      "Epoch 9/20\n",
      "196/196 [==============================] - 144s 736ms/step - loss: 1.3791 - acc: 0.5730 - val_loss: 1.0976 - val_acc: 0.6612\n",
      "\n",
      "Epoch 00009: saving model to ./model_checkpoints/check_09_1.0976.hdf5\n",
      "Epoch 10/20\n",
      "196/196 [==============================] - 144s 732ms/step - loss: 1.3172 - acc: 0.5938 - val_loss: 1.0323 - val_acc: 0.6875\n",
      "\n",
      "Epoch 00010: saving model to ./model_checkpoints/check_10_1.0323.hdf5\n",
      "Epoch 11/20\n",
      "196/196 [==============================] - 145s 739ms/step - loss: 1.2524 - acc: 0.6134 - val_loss: 1.0374 - val_acc: 0.6830\n",
      "\n",
      "Epoch 00011: saving model to ./model_checkpoints/check_11_1.0374.hdf5\n",
      "Epoch 12/20\n",
      "196/196 [==============================] - 145s 742ms/step - loss: 1.1874 - acc: 0.6342 - val_loss: 1.0595 - val_acc: 0.6691\n",
      "\n",
      "Epoch 00012: saving model to ./model_checkpoints/check_12_1.0595.hdf5\n",
      "Epoch 13/20\n",
      "196/196 [==============================] - 145s 738ms/step - loss: 1.1269 - acc: 0.6521 - val_loss: 1.0414 - val_acc: 0.6716\n",
      "\n",
      "Epoch 00013: saving model to ./model_checkpoints/check_13_1.0414.hdf5\n",
      "Epoch 14/20\n",
      "196/196 [==============================] - 145s 739ms/step - loss: 1.0768 - acc: 0.6677 - val_loss: 0.9340 - val_acc: 0.7127\n",
      "\n",
      "Epoch 00014: saving model to ./model_checkpoints/check_14_0.9340.hdf5\n",
      "Epoch 15/20\n",
      "196/196 [==============================] - 145s 739ms/step - loss: 1.0362 - acc: 0.6800 - val_loss: 0.8938 - val_acc: 0.7309\n",
      "\n",
      "Epoch 00015: saving model to ./model_checkpoints/check_15_0.8938.hdf5\n",
      "Epoch 16/20\n",
      "196/196 [==============================] - 145s 739ms/step - loss: 0.9982 - acc: 0.6912 - val_loss: 0.8414 - val_acc: 0.7529\n",
      "\n",
      "Epoch 00016: saving model to ./model_checkpoints/check_16_0.8414.hdf5\n",
      "Epoch 17/20\n",
      "196/196 [==============================] - 145s 738ms/step - loss: 0.9579 - acc: 0.7042 - val_loss: 0.8593 - val_acc: 0.7475\n",
      "\n",
      "Epoch 00017: saving model to ./model_checkpoints/check_17_0.8593.hdf5\n",
      "Epoch 18/20\n",
      "196/196 [==============================] - 144s 736ms/step - loss: 0.9212 - acc: 0.7156 - val_loss: 0.8136 - val_acc: 0.7628\n",
      "\n",
      "Epoch 00018: saving model to ./model_checkpoints/check_18_0.8136.hdf5\n",
      "Epoch 19/20\n",
      "196/196 [==============================] - 143s 732ms/step - loss: 0.8918 - acc: 0.7250 - val_loss: 0.7447 - val_acc: 0.7808\n",
      "\n",
      "Epoch 00019: saving model to ./model_checkpoints/check_19_0.7447.hdf5\n",
      "Epoch 20/20\n",
      "196/196 [==============================] - 143s 730ms/step - loss: 0.8570 - acc: 0.7356 - val_loss: 0.7040 - val_acc: 0.7915\n",
      "\n",
      "Epoch 00020: saving model to ./model_checkpoints/check_20_0.7040.hdf5\n"
     ]
    }
   ],
   "source": [
    "from keras.callbacks import ModelCheckpoint\n",
    "\n",
    "# Create directory to save checkpoints at\n",
    "model_checkpoints_path = \"./model_checkpoints\"\n",
    "if not os.path.exists(model_checkpoints_path):\n",
    "    os.makedirs(model_checkpoints_path)\n",
    "    \n",
    "# Save model after every epoch using checkpoints\n",
    "create_checkpoint = ModelCheckpoint(\n",
    "    filepath = \"./model_checkpoints/check_{epoch:02d}_{val_loss:.4f}.hdf5\",\n",
    "    verbose = 1,\n",
    "    save_best_only = False\n",
    ")\n",
    "\n",
    "# Fit model using generators\n",
    "history_object = model.fit_generator(\n",
    "    train_generator, \n",
    "    steps_per_epoch = round(len(X_train) / BATCH_SIZE),\n",
    "    validation_data = validation_generator,\n",
    "    validation_steps = round(len(X_val) / BATCH_SIZE),\n",
    "    epochs = 20,\n",
    "    verbose = 1,\n",
    "    callbacks = [create_checkpoint]\n",
    ")"
   ]
  },
  {
   "cell_type": "markdown",
   "metadata": {
    "colab_type": "text",
    "id": "Wec61jeMjOA1"
   },
   "source": [
    "Load a saved model weights and use them to predict labels in the test set:"
   ]
  },
  {
   "cell_type": "code",
   "execution_count": 26,
   "metadata": {
    "colab": {
     "base_uri": "https://localhost:8080/",
     "height": 34
    },
    "colab_type": "code",
    "id": "K-VNI527jOA1",
    "outputId": "0e05eb13-7c63-43b5-c433-4523e6ce28b3"
   },
   "outputs": [
    {
     "name": "stdout",
     "output_type": "stream",
     "text": [
      "Accuracy:  0.8096616865456947\n"
     ]
    }
   ],
   "source": [
    "model_weights_path = \"./model_checkpoints/model_weights.hdf5\"\n",
    "if model_weights_path:\n",
    "    model.load_weights(model_weights_path)\n",
    "    scores = model.evaluate_generator(test_generator, steps=round(len(X_test)/BATCH_SIZE))\n",
    "    print(\"Accuracy: \", scores[1])\n",
    "else:\n",
    "    print(\"Set model weights file to load in the 'model_weights_path' variable\")"
   ]
  }
 ],
 "metadata": {
  "accelerator": "GPU",
  "colab": {
   "name": "solution.ipynb",
   "provenance": [],
   "toc_visible": true,
   "version": "0.3.2"
  },
  "kernelspec": {
   "display_name": "iam_writer_recognition",
   "language": "python",
   "name": "iam_writer_recognition"
  },
  "language_info": {
   "codemirror_mode": {
    "name": "ipython",
    "version": 3
   },
   "file_extension": ".py",
   "mimetype": "text/x-python",
   "name": "python",
   "nbconvert_exporter": "python",
   "pygments_lexer": "ipython3",
   "version": "3.6.7"
  }
 },
 "nbformat": 4,
 "nbformat_minor": 1
}
